{
  "nbformat": 4,
  "nbformat_minor": 0,
  "metadata": {
    "colab": {
      "provenance": []
    },
    "kernelspec": {
      "name": "python3",
      "display_name": "Python 3"
    },
    "language_info": {
      "name": "python"
    }
  },
  "cells": [
    {
      "cell_type": "markdown",
      "source": [
        "# Load Data"
      ],
      "metadata": {
        "id": "efTZ36Z_Dc03"
      }
    },
    {
      "cell_type": "code",
      "execution_count": 2,
      "metadata": {
        "id": "ZXe-P6PLClHZ"
      },
      "outputs": [],
      "source": [
        "import pandas as pd\n",
        "\n",
        "# Replace 'path/to/your/csv' with the authentic file pathway on your local apparatus\n",
        "\n",
        "file_path = '/content/titanic.csv'\n",
        "\n",
        "data = pd.read_csv(file_path)\n"
      ]
    },
    {
      "cell_type": "markdown",
      "source": [
        "# Examine the Data"
      ],
      "metadata": {
        "id": "2bAdKOEgDb2-"
      }
    },
    {
      "cell_type": "code",
      "source": [
        "# Display the initial few records within the DataFrame\n",
        "print(data.head())\n",
        "\n",
        "# Disclose the dimensions (number of rows and columns) of the DataFrame\n",
        "print(data.shape)\n",
        "\n",
        "# Unveil the data types attributed to each column in the DataFrame\n",
        "print(data.dtypes)\n",
        "\n",
        "# Present a concise summary encompassing statistical metrics pertinent to numerical columns\n",
        "print(data.describe())\n"
      ],
      "metadata": {
        "colab": {
          "base_uri": "https://localhost:8080/"
        },
        "id": "jgY3ItUTD16y",
        "outputId": "6cad256c-6383-443e-d2fc-e2cb7077db9c"
      },
      "execution_count": 3,
      "outputs": [
        {
          "output_type": "stream",
          "name": "stdout",
          "text": [
            "   PassengerId  Survived  Pclass  \\\n",
            "0            1         0       3   \n",
            "1            2         1       1   \n",
            "2            3         1       3   \n",
            "3            4         1       1   \n",
            "4            5         0       3   \n",
            "\n",
            "                                                Name     Sex   Age  SibSp  \\\n",
            "0                            Braund, Mr. Owen Harris    male  22.0      1   \n",
            "1  Cumings, Mrs. John Bradley (Florence Briggs Th...  female  38.0      1   \n",
            "2                             Heikkinen, Miss. Laina  female  26.0      0   \n",
            "3       Futrelle, Mrs. Jacques Heath (Lily May Peel)  female  35.0      1   \n",
            "4                           Allen, Mr. William Henry    male  35.0      0   \n",
            "\n",
            "   Parch            Ticket     Fare Cabin Embarked  \n",
            "0      0         A/5 21171   7.2500   NaN        S  \n",
            "1      0          PC 17599  71.2833   C85        C  \n",
            "2      0  STON/O2. 3101282   7.9250   NaN        S  \n",
            "3      0            113803  53.1000  C123        S  \n",
            "4      0            373450   8.0500   NaN        S  \n",
            "(891, 12)\n",
            "PassengerId      int64\n",
            "Survived         int64\n",
            "Pclass           int64\n",
            "Name            object\n",
            "Sex             object\n",
            "Age            float64\n",
            "SibSp            int64\n",
            "Parch            int64\n",
            "Ticket          object\n",
            "Fare           float64\n",
            "Cabin           object\n",
            "Embarked        object\n",
            "dtype: object\n",
            "       PassengerId    Survived      Pclass         Age       SibSp  \\\n",
            "count   891.000000  891.000000  891.000000  714.000000  891.000000   \n",
            "mean    446.000000    0.383838    2.308642   29.699118    0.523008   \n",
            "std     257.353842    0.486592    0.836071   14.526497    1.102743   \n",
            "min       1.000000    0.000000    1.000000    0.420000    0.000000   \n",
            "25%     223.500000    0.000000    2.000000   20.125000    0.000000   \n",
            "50%     446.000000    0.000000    3.000000   28.000000    0.000000   \n",
            "75%     668.500000    1.000000    3.000000   38.000000    1.000000   \n",
            "max     891.000000    1.000000    3.000000   80.000000    8.000000   \n",
            "\n",
            "            Parch        Fare  \n",
            "count  891.000000  891.000000  \n",
            "mean     0.381594   32.204208  \n",
            "std      0.806057   49.693429  \n",
            "min      0.000000    0.000000  \n",
            "25%      0.000000    7.910400  \n",
            "50%      0.000000   14.454200  \n",
            "75%      0.000000   31.000000  \n",
            "max      6.000000  512.329200  \n"
          ]
        }
      ]
    },
    {
      "cell_type": "markdown",
      "source": [
        "# Select Specific Columns"
      ],
      "metadata": {
        "id": "sVF_9_6BEhCh"
      }
    },
    {
      "cell_type": "code",
      "source": [
        "# Isolate the 'Name' column\n",
        "name = data['Name']\n",
        "\n",
        "# Extract multiple columns, such as 'Sex' and 'Age'\n",
        "selected_columns = data[['Sex', 'Age']]\n",
        "\n"
      ],
      "metadata": {
        "id": "zSCqFEUKD69I"
      },
      "execution_count": 7,
      "outputs": []
    },
    {
      "cell_type": "markdown",
      "source": [
        "# Select Specific Rows Through Slicing"
      ],
      "metadata": {
        "id": "62272HB4Eiwz"
      }
    },
    {
      "cell_type": "code",
      "source": [
        "# Capture the first ten rows within the DataFrame\n",
        "first_10_rows = data[:10]"
      ],
      "metadata": {
        "id": "7cxoC9LZEpc6"
      },
      "execution_count": 8,
      "outputs": []
    },
    {
      "cell_type": "markdown",
      "source": [
        "# Select Rows Based on Conditions"
      ],
      "metadata": {
        "id": "1mLEycWWHNAb"
      }
    },
    {
      "cell_type": "code",
      "source": [
        "# Identify rows wherein 'Survived' is equivalent to 1 (representing Survived customers)\n",
        "survived_people = data[data['Survived'] == 1]\n"
      ],
      "metadata": {
        "id": "4jvOpE0eEwyJ"
      },
      "execution_count": 9,
      "outputs": []
    },
    {
      "cell_type": "markdown",
      "source": [
        "# Modify Data Values"
      ],
      "metadata": {
        "id": "w3INOxFlHKwk"
      }
    },
    {
      "cell_type": "code",
      "source": [
        "# Enhance the values within the 'Fare' column by incrementing each value by 10 units\n",
        "data['Fare'] = data['Fare'] + 10\n"
      ],
      "metadata": {
        "id": "U-maqOCUFAps"
      },
      "execution_count": 11,
      "outputs": []
    },
    {
      "cell_type": "markdown",
      "source": [
        "# Add a new column"
      ],
      "metadata": {
        "id": "T1qlLASDHJDZ"
      }
    },
    {
      "cell_type": "code",
      "source": [
        "# Add a new column 'Fare_Categories' based on the\n",
        "def fare_category(fare):\n",
        "    if fare < 10:\n",
        "        return 'Very Low'\n",
        "    elif fare < 30:\n",
        "        return 'Low'\n",
        "    elif fare < 60:\n",
        "        return 'Moderate'\n",
        "    elif fare < 100:\n",
        "        return 'High'\n",
        "    else:\n",
        "        return 'Very High'\n",
        "\n",
        "# Apply the fare_category function to create the new column\n",
        "data['Fare_Categories'] = data['Fare'].apply(fare_category)\n"
      ],
      "metadata": {
        "id": "0XdVmkMmGIHK"
      },
      "execution_count": 12,
      "outputs": []
    },
    {
      "cell_type": "markdown",
      "source": [
        "# Drop a column"
      ],
      "metadata": {
        "id": "b-90p7noHGNB"
      }
    },
    {
      "cell_type": "code",
      "source": [
        "# Drop the 'Ticket' column\n",
        "data = data.drop('Ticket', axis=1)"
      ],
      "metadata": {
        "id": "xZO_SZ2WGKYn"
      },
      "execution_count": 13,
      "outputs": []
    },
    {
      "cell_type": "markdown",
      "source": [
        "# Save the modified DataFrame to a new CSV file"
      ],
      "metadata": {
        "id": "sPF20svBHCt3"
      }
    },
    {
      "cell_type": "code",
      "source": [
        "# Save the modified DataFrame to a new CSV file\n",
        "data.to_csv('Modified_titanic.csv', index=False)\n"
      ],
      "metadata": {
        "id": "UywMgSF6Gt1E"
      },
      "execution_count": 14,
      "outputs": []
    },
    {
      "cell_type": "code",
      "source": [],
      "metadata": {
        "id": "NA9-7ZF-HHMR"
      },
      "execution_count": null,
      "outputs": []
    }
  ]
}